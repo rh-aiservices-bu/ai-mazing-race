{
 "cells": [
  {
   "cell_type": "markdown",
   "id": "430c9871",
   "metadata": {},
   "source": [
    "# SHAP\n",
    "\n",
    "SHAP (SHapley Additive exPlanations) is a method used to explain the output of machine learning models.  \n",
    "SHAP aims to explain how an input affects the output of the model, by showing the impact of each input feature on the output.  \n",
    "When reading the SHAP values, you will see for each input feature how much it positively or negatively pushed the output to the answer we got, compared to the average base value of the dataset.\n",
    "\n",
    "You can read more here: https://trustyai-explainability.github.io/trustyai-site/main/local-explainers.html"
   ]
  },
  {
   "cell_type": "code",
   "execution_count": null,
   "id": "09d5e7c3",
   "metadata": {},
   "outputs": [],
   "source": [
    "!pip -q install \"numpy==1.26.4\" \"tensorflow==2.18.0\""
   ]
  },
  {
   "cell_type": "code",
   "execution_count": 2,
   "id": "5dd540f9",
   "metadata": {},
   "outputs": [],
   "source": [
    "import warnings\n",
    "\n",
    "# Ignore UserWarnings\n",
    "warnings.filterwarnings(\"ignore\", category=UserWarning)"
   ]
  },
  {
   "cell_type": "code",
   "execution_count": null,
   "id": "fe95ffca-bec7-4d0b-b976-80df5ddc0463",
   "metadata": {
    "tags": []
   },
   "outputs": [],
   "source": [
    "import pickle\n",
    "import pandas as pd\n",
    "import numpy as np\n",
    "import keras"
   ]
  },
  {
   "cell_type": "code",
   "execution_count": 4,
   "id": "55daf2fc-6133-4c75-9f69-fa126707f350",
   "metadata": {},
   "outputs": [],
   "source": [
    "OUTPUT_FEATURE = \"price\"\n",
    "SAVE_FOLDER = \"new_model\""
   ]
  },
  {
   "cell_type": "code",
   "execution_count": null,
   "id": "9fc9845c-f417-4d5d-88c2-0aca52b3da25",
   "metadata": {
    "tags": []
   },
   "outputs": [],
   "source": [
    "keras_model = keras.saving.load_model(f\"{SAVE_FOLDER}/model.keras\")\n",
    "\n",
    "test_data = pd.read_parquet(f'{SAVE_FOLDER}/X_test.parquet')\n",
    "train_data = pd.read_parquet(f'{SAVE_FOLDER}/X_train.parquet')"
   ]
  },
  {
   "cell_type": "code",
   "execution_count": null,
   "id": "cb55a6be-f889-4a35-9993-8d5111a830e8",
   "metadata": {
    "tags": []
   },
   "outputs": [],
   "source": [
    "strange_prediction = test_data.loc[[532]].drop(OUTPUT_FEATURE, axis=1)\n",
    "strange_prediction"
   ]
  },
  {
   "cell_type": "markdown",
   "id": "22e29b8f",
   "metadata": {},
   "source": [
    "TrustyAI SHAP explainer requires our model to have a pandas dataframe as an input, and numpy or pandas output, so we wrap our model in a pred() function that makes sure the input and output are converted properly. "
   ]
  },
  {
   "cell_type": "code",
   "execution_count": 7,
   "id": "0df053e9-bf56-4b03-9e9c-f7876cb19269",
   "metadata": {},
   "outputs": [],
   "source": [
    "def pred(x):\n",
    "    prediction = keras_model.predict(x)\n",
    "    return pd.DataFrame(prediction, columns=[OUTPUT_FEATURE])"
   ]
  },
  {
   "cell_type": "code",
   "execution_count": 8,
   "id": "7f587512-38e8-4e80-b78d-f6296d573924",
   "metadata": {
    "tags": []
   },
   "outputs": [],
   "source": [
    "from trustyai.model import Model\n",
    "trustyai_model = Model(pred, output_names=[OUTPUT_FEATURE])"
   ]
  },
  {
   "cell_type": "code",
   "execution_count": null,
   "id": "acc63b48-8d61-4028-bdbd-219217e4f5fc",
   "metadata": {
    "tags": []
   },
   "outputs": [],
   "source": [
    "prediction = trustyai_model(strange_prediction)\n",
    "prediction"
   ]
  },
  {
   "cell_type": "code",
   "execution_count": 10,
   "id": "33be2325-1190-4ef8-93d5-3584eee342c1",
   "metadata": {},
   "outputs": [],
   "source": [
    "for key in train_data.columns:\n",
    "    test_data[[key]] = test_data[[key]].astype(\"float32\")\n",
    "    train_data[[key]] = train_data[[key]].astype(\"float32\")\n",
    "    try:\n",
    "        strange_prediction[[key]] = strange_prediction[[key]].astype(\"float32\")\n",
    "    except:\n",
    "        pass"
   ]
  },
  {
   "cell_type": "markdown",
   "id": "827d92ab",
   "metadata": {},
   "source": [
    "We arbitrarily choose the first data point (song) in our test data to be the data we want to test.  \n",
    "In practice, you might choose the data point that you predict the worst on, or a data point that gave an unexpected answer.  \n",
    "We also look at how our data point looks when normalized (after going through pre-processing). This is how it will look like going into the model"
   ]
  },
  {
   "cell_type": "markdown",
   "id": "0e713b40",
   "metadata": {},
   "source": [
    "Let's try to use our TrustyAI Model to predict the output of our data point we want to explain with SHAP."
   ]
  },
  {
   "cell_type": "markdown",
   "id": "bc38c14c",
   "metadata": {},
   "source": [
    "And with everything set up, we can create a SHAP explainer and let it analyze our data point!  \n",
    "You can also note that we add 100 data points from our training dataset to the SHAPExplainer, this is used to calculate the average base values of our dataset. With this, we can see how much our interesting datapoint contributes to the prediction compared to what a \"standard\" value would."
   ]
  },
  {
   "cell_type": "code",
   "execution_count": 16,
   "id": "823559a2-4e1b-4288-8497-f9fac6a747de",
   "metadata": {},
   "outputs": [],
   "source": [
    "sample_sizes = train_data[OUTPUT_FEATURE].value_counts(normalize=True) * 100\n",
    "sample_sizes = sample_sizes.apply(lambda x: int(round(x)))\n",
    "\n",
    "correction = 100 - sample_sizes.sum()\n",
    "if correction > 0:\n",
    "    sample_sizes.iloc[:correction] += 1 \n",
    "elif correction < 0:\n",
    "    sample_sizes.iloc[:abs(correction)] -= 1\n",
    "\n",
    "bg_dataset = train_data.groupby(OUTPUT_FEATURE).apply(lambda x: x.sample(n=sample_sizes[x.name], random_state=42))\n",
    "bg_dataset = bg_dataset.reset_index(drop=True).drop(OUTPUT_FEATURE, axis=1)"
   ]
  },
  {
   "cell_type": "code",
   "execution_count": 17,
   "id": "165978b5-2c24-4043-8757-f8944e815695",
   "metadata": {
    "tags": []
   },
   "outputs": [],
   "source": [
    "from trustyai.explainers import SHAPExplainer\n",
    "\n",
    "explainer = SHAPExplainer(background=bg_dataset, seed=42)"
   ]
  },
  {
   "cell_type": "code",
   "execution_count": null,
   "id": "a8996696-e26e-4eca-a907-6e62c033f9d3",
   "metadata": {
    "tags": []
   },
   "outputs": [],
   "source": [
    "explanations = explainer.explain(inputs=strange_prediction,\n",
    "                             outputs=prediction,\n",
    "                             model=trustyai_model)"
   ]
  },
  {
   "cell_type": "markdown",
   "id": "6de2e45e",
   "metadata": {},
   "source": [
    "With our SHAP Explainer ready we can start looking at the results.\n",
    "\n",
    "Let's choose a specific output country which we want to know how it got affected by the input values.  \n",
    "CH is the country that we are supposed to get as the popular country for this input, so it's especially interesting to see the input's effect on that output.  \n",
    "That being said, feel free to try with a few other countries and see what happens.  "
   ]
  },
  {
   "cell_type": "markdown",
   "id": "ee30d71c",
   "metadata": {},
   "source": [
    "First, we will get a table of values.  \n",
    "Here we can see the **Mean Background Value** - this is the average base value we were talking about before.  \n",
    "We can also see our **Value**, which is the normalized data point that we sent into the explainer. Red values are lower than the average value and green values are higher.  \n",
    "Finally, we have the **SHAP Value**. These indicate how much that input feature had an effect on the output. Red indicates a negative contribution to the prediction while green a positive contribution. The larger the value, the larger the contribution."
   ]
  },
  {
   "cell_type": "code",
   "execution_count": null,
   "id": "946e764b-4412-4c47-9516-b38eae9c0b99",
   "metadata": {},
   "outputs": [],
   "source": [
    "explanations.as_html()[OUTPUT_FEATURE]"
   ]
  },
  {
   "cell_type": "markdown",
   "id": "98c53c38",
   "metadata": {},
   "source": [
    "We can also visualize it as a candlestick plot, seeing how the different input features build up to the output value."
   ]
  },
  {
   "cell_type": "code",
   "execution_count": null,
   "id": "d732abf7",
   "metadata": {},
   "outputs": [],
   "source": [
    "from trustyai.visualizations.shap import SHAPViz\n",
    "SHAPViz()._matplotlib_plot(explanations=explanations, output_name=OUTPUT_FEATURE)"
   ]
  }
 ],
 "metadata": {
  "kernelspec": {
   "display_name": "Python 3.11",
   "language": "python",
   "name": "python3"
  },
  "language_info": {
   "codemirror_mode": {
    "name": "ipython",
    "version": 3
   },
   "file_extension": ".py",
   "mimetype": "text/x-python",
   "name": "python",
   "nbconvert_exporter": "python",
   "pygments_lexer": "ipython3",
   "version": "3.11.7"
  }
 },
 "nbformat": 4,
 "nbformat_minor": 5
}
