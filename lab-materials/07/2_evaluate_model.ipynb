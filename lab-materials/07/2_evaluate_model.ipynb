{
 "cells": [
  {
   "cell_type": "code",
   "execution_count": null,
   "id": "75b712a2-7d2d-4c5d-bdba-a5e9e135271d",
   "metadata": {},
   "outputs": [],
   "source": [
    "import pickle\n",
    "import pandas as pd\n",
    "import numpy as np\n",
    "import keras"
   ]
  },
  {
   "cell_type": "code",
   "execution_count": 2,
   "id": "e16349e7-41e6-4198-b7b6-4abcd1b3281b",
   "metadata": {},
   "outputs": [],
   "source": [
    "PREDICT_TARGET = \"price\"\n",
    "SAVE_FOLDER = \"new_model\""
   ]
  },
  {
   "cell_type": "code",
   "execution_count": null,
   "id": "60e8b543-e18a-4eb8-bafb-f1e682e21371",
   "metadata": {},
   "outputs": [],
   "source": [
    "model = keras.saving.load_model(f\"{SAVE_FOLDER}/model.keras\")\n",
    "\n",
    "test_data = pd.read_parquet(f'{SAVE_FOLDER}/X_test.parquet')\n",
    "\n",
    "with open(f'{SAVE_FOLDER}/scalers.pkl', 'rb') as handle:\n",
    "    scalers = pickle.load(handle)"
   ]
  },
  {
   "cell_type": "code",
   "execution_count": null,
   "id": "f7f750f6-6e46-425a-9bec-d88c28722324",
   "metadata": {},
   "outputs": [],
   "source": [
    "# Evaluate performance on the test set\n",
    "test_features = test_data.drop(PREDICT_TARGET, axis=1)\n",
    "test_labels = test_data[[PREDICT_TARGET]]\n",
    "\n",
    "print(\"\\n Evaluate the new model against the test set:\")\n",
    "model.evaluate(x = test_features, y = test_labels)"
   ]
  },
  {
   "cell_type": "code",
   "execution_count": 5,
   "id": "e96054f0-4044-4fc3-abc9-ed928436d433",
   "metadata": {},
   "outputs": [],
   "source": [
    "# Get all test predictions\n",
    "prediction = model(test_features)\n",
    "predicted_df = test_data.copy()\n",
    "predicted_df[[PREDICT_TARGET]] = prediction # Replace the column with our predicted one"
   ]
  },
  {
   "cell_type": "code",
   "execution_count": 6,
   "id": "264b997b-4d8d-41bd-9097-da0b4806ab5c",
   "metadata": {},
   "outputs": [],
   "source": [
    "for k, v in scalers.items():\n",
    "    if k in predicted_df.columns:\n",
    "        predicted_df[[k]] = v.inverse_transform(predicted_df[[k]])"
   ]
  },
  {
   "cell_type": "code",
   "execution_count": 7,
   "id": "829b43c8-a0b7-4fec-be1e-c3eb925304e6",
   "metadata": {},
   "outputs": [],
   "source": [
    "def undummify(df, prefix_sep=\"_\"):\n",
    "    cols2collapse = {\n",
    "        item.split(prefix_sep)[0]: (prefix_sep in item) for item in df.columns\n",
    "    }\n",
    "    series_list = []\n",
    "    for col, needs_to_collapse in cols2collapse.items():\n",
    "        if needs_to_collapse:\n",
    "            undummified = (\n",
    "                df.filter(like=col)\n",
    "                .idxmax(axis=1)\n",
    "                .apply(lambda x: x.split(prefix_sep, maxsplit=1)[1])\n",
    "                .rename(col)\n",
    "            )\n",
    "            series_list.append(undummified)\n",
    "        else:\n",
    "            series_list.append(df[col])\n",
    "    undummified_df = pd.concat(series_list, axis=1)\n",
    "    return undummified_df\n",
    "\n",
    "categores = [col for col in predicted_df.columns if \"category\" in col]\n",
    "\n",
    "concat_categories = undummify(predicted_df[categores])\n",
    "predicted_df = predicted_df.drop(categores, axis=1)\n",
    "predicted_df[\"category\"] = concat_categories"
   ]
  },
  {
   "cell_type": "code",
   "execution_count": null,
   "id": "6edf4291-86ab-463a-b00a-25435658f8c9",
   "metadata": {},
   "outputs": [],
   "source": [
    "# See where we predict a price below 0\n",
    "predicted_df[predicted_df[\"price\"]<0]"
   ]
  },
  {
   "cell_type": "code",
   "execution_count": null,
   "id": "77c6219e-fb78-49cf-a664-0ae4aeb00abc",
   "metadata": {},
   "outputs": [],
   "source": [
    "from IPython.display import YouTubeVideo\n",
    "\n",
    "YouTubeVideo('NlWCLw75XnE', width=800, height=300)"
   ]
  },
  {
   "cell_type": "markdown",
   "id": "f9147528-2d0b-42ca-91db-8386e71dcb96",
   "metadata": {},
   "source": [
    "Let's see what the worst prediction we do is."
   ]
  },
  {
   "cell_type": "code",
   "execution_count": null,
   "id": "98b3126c-4c0d-4454-bfc8-d6d56214c470",
   "metadata": {},
   "outputs": [],
   "source": [
    "unscaled_labels = scalers[PREDICT_TARGET].inverse_transform(test_labels)\n",
    "worst_prediction = np.argmax(np.abs(predicted_df[PREDICT_TARGET].values.reshape(-1, 1) - unscaled_labels))\n",
    "predicted_df.iloc[[worst_prediction]]"
   ]
  },
  {
   "cell_type": "code",
   "execution_count": null,
   "id": "be7a1c6f-5973-4e82-8128-bf2208172f5a",
   "metadata": {},
   "outputs": [],
   "source": [
    "comparison = {\n",
    "    \"prediction\": predicted_df.reset_index().iloc[worst_prediction][PREDICT_TARGET],\n",
    "    \"target\": unscaled_labels[worst_prediction][0],\n",
    "    \"error\": predicted_df.reset_index().iloc[worst_prediction][PREDICT_TARGET] - unscaled_labels[worst_prediction][0]\n",
    "}\n",
    "pd.DataFrame([comparison])"
   ]
  }
 ],
 "metadata": {
  "kernelspec": {
   "display_name": "Python 3.11",
   "language": "python",
   "name": "python3"
  },
  "language_info": {
   "codemirror_mode": {
    "name": "ipython",
    "version": 3
   },
   "file_extension": ".py",
   "mimetype": "text/x-python",
   "name": "python",
   "nbconvert_exporter": "python",
   "pygments_lexer": "ipython3",
   "version": "3.11.7"
  }
 },
 "nbformat": 4,
 "nbformat_minor": 5
}
