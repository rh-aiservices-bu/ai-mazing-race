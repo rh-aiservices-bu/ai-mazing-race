{
 "cells": [
  {
   "cell_type": "markdown",
   "id": "536e4eaf",
   "metadata": {},
   "source": [
    "# Counterfactuals\n",
    "\n",
    "Counterfactuals are great for seeing what input we would need to get some desired output.  \n",
    "In our case, it might be that we wanted to check what input we needed to make the song popular in France.  \n",
    "We will be using TrustyAI to test exactly this, and see how much we would need to change."
   ]
  },
  {
   "cell_type": "code",
   "execution_count": null,
   "id": "3045f850-61b1-4b91-9ccc-33a9dd297040",
   "metadata": {
    "tags": []
   },
   "outputs": [],
   "source": [
    "!pip -q install \"numpy==1.26.4\" \"tensorflow==2.18.0\""
   ]
  },
  {
   "cell_type": "code",
   "execution_count": null,
   "id": "c3ae84ab-cd63-4e14-b8b6-177076ccec25",
   "metadata": {
    "tags": []
   },
   "outputs": [],
   "source": [
    "import pickle\n",
    "import pandas as pd\n",
    "import numpy as np\n",
    "import keras"
   ]
  },
  {
   "cell_type": "code",
   "execution_count": 3,
   "id": "e8ef34cd",
   "metadata": {},
   "outputs": [],
   "source": [
    "import warnings\n",
    "\n",
    "# Ignore UserWarnings\n",
    "warnings.filterwarnings(\"ignore\", category=UserWarning)"
   ]
  },
  {
   "cell_type": "markdown",
   "id": "1564a70c",
   "metadata": {},
   "source": [
    "Let's start by choosing a country we want the song to be popular in.  \n",
    "We also pick what probability we need to see before we say that there's a good chance that our song will be popular in that country.  "
   ]
  },
  {
   "cell_type": "code",
   "execution_count": 4,
   "id": "260c648d-30d2-488f-bf62-6e680d50fbaa",
   "metadata": {
    "tags": []
   },
   "outputs": [],
   "source": [
    "OUTPUT_FEATURE = \"price\"\n",
    "LABEL_THRESHOLD = 0.0\n",
    "SAVE_FOLDER = \"new_model\""
   ]
  },
  {
   "cell_type": "markdown",
   "id": "c7d69369",
   "metadata": {},
   "source": [
    "We then load our model, as well as our pre-and-post-processing artifacts.  "
   ]
  },
  {
   "cell_type": "code",
   "execution_count": null,
   "id": "54bc87a7-7fd4-4251-b4f4-616500a6cbe7",
   "metadata": {
    "tags": []
   },
   "outputs": [],
   "source": [
    "keras_model = keras.saving.load_model(f\"{SAVE_FOLDER}/model.keras\")\n",
    "\n",
    "with open(f'{SAVE_FOLDER}/scalers.pkl', 'rb') as handle:\n",
    "    scalers = pickle.load(handle)"
   ]
  },
  {
   "cell_type": "markdown",
   "id": "06991274",
   "metadata": {},
   "source": [
    "### Data\n",
    "\n",
    "Then we pick a song we want to try to make popular in that country.  \n",
    "We will also process the song properties a bit, such as scaling them, just like what we did when training the model. This is to make sure they have an input that the model understands. "
   ]
  },
  {
   "cell_type": "code",
   "execution_count": null,
   "id": "70c53763-77c3-4060-9583-b375e0e3fbcd",
   "metadata": {
    "tags": []
   },
   "outputs": [],
   "source": [
    "test_data = pd.read_parquet(f'{SAVE_FOLDER}/X_test.parquet')\n",
    "strange_prediction = test_data.loc[[532]].drop(OUTPUT_FEATURE, axis=1)\n",
    "strange_prediction"
   ]
  },
  {
   "cell_type": "markdown",
   "id": "1798ee7e",
   "metadata": {},
   "source": [
    "### Counterfactual analysis\n",
    "\n",
    "Now that we have all of this set up, will set up our counterfactual analysis.  \n",
    "Here we need to first create a predict function (if your model inputs and outputs pandas dataframe by default, this is not needed).  \n",
    "Then we will create a TrustyAI \"Model\", this just wraps our model and will be used by TrustyAI to iterate on different input values.  \n",
    "Finally, we will define TrustyAI \"domains\" for each of our inputs. This tells TrustyAI what values the input is allowed to be between."
   ]
  },
  {
   "cell_type": "code",
   "execution_count": 7,
   "id": "39041f8e-fce1-496b-9b75-c3aff9c1ae69",
   "metadata": {
    "tags": []
   },
   "outputs": [],
   "source": [
    "def pred(x):\n",
    "    prediction = keras_model.predict(x)\n",
    "    unscaled_pred = scalers[OUTPUT_FEATURE].inverse_transform(prediction)[0][0]\n",
    "    print(unscaled_pred)\n",
    "    if unscaled_pred >= LABEL_THRESHOLD:\n",
    "        pred = {OUTPUT_FEATURE: True}\n",
    "    else:\n",
    "        pred = {OUTPUT_FEATURE: False}\n",
    "    return pd.DataFrame([pred])"
   ]
  },
  {
   "cell_type": "code",
   "execution_count": 8,
   "id": "b7255731-3461-435d-b597-eaf9c7910490",
   "metadata": {
    "tags": []
   },
   "outputs": [],
   "source": [
    "from trustyai.model import Model\n",
    "\n",
    "model = Model(pred, output_names=[OUTPUT_FEATURE])"
   ]
  },
  {
   "cell_type": "code",
   "execution_count": null,
   "id": "4aba34c6-1f46-4c20-92e0-cf9a65318bdd",
   "metadata": {},
   "outputs": [],
   "source": [
    "# Test the model\n",
    "model(strange_prediction.to_numpy())"
   ]
  },
  {
   "cell_type": "code",
   "execution_count": 10,
   "id": "d6a41d78-8b38-4890-93c0-f3c781d6afb9",
   "metadata": {
    "tags": []
   },
   "outputs": [],
   "source": [
    "from trustyai.model.domain import feature_domain\n",
    "\n",
    "domains = {}\n",
    "\n",
    "for key in strange_prediction.columns:\n",
    "    if \"category\" in key or \"sellable_online\" in key or \"other_colors\" in key:\n",
    "        domains[key] = feature_domain([False, True])\n",
    "        strange_prediction[[key]] = strange_prediction[[key]].astype(\"bool\")\n",
    "    else:\n",
    "        domains[key] = feature_domain((0, 1))\n",
    "\n",
    "domains = list(domains.values())"
   ]
  },
  {
   "cell_type": "code",
   "execution_count": 11,
   "id": "cb599661-5233-423a-9eac-81c924de318e",
   "metadata": {
    "tags": []
   },
   "outputs": [],
   "source": [
    "from trustyai.model import output\n",
    "goal = [output(name=OUTPUT_FEATURE, dtype=\"bool\", value=True)]"
   ]
  },
  {
   "cell_type": "markdown",
   "id": "ad24c3dd",
   "metadata": {},
   "source": [
    "After we have the model, the domains, and the goal, we can start running through possible inputs to see which one can give us the output we want.  \n",
    "When this has finished running, we can see how much the input differed from the original input we sent into the model (remember the song we chose at the start).  \n",
    "This gives us a good idea of what we would need to change for the song to become popular in our country."
   ]
  },
  {
   "cell_type": "code",
   "execution_count": null,
   "id": "6e4db545-4f7f-4863-9512-246e2e686406",
   "metadata": {},
   "outputs": [],
   "source": [
    "strange_prediction"
   ]
  },
  {
   "cell_type": "code",
   "execution_count": null,
   "id": "2a71c828-6c0f-4771-9db6-1a36024e5d6d",
   "metadata": {},
   "outputs": [],
   "source": [
    "from trustyai.explainers import CounterfactualExplainer\n",
    "\n",
    "STEPS=50\n",
    "explainer = CounterfactualExplainer(steps=STEPS)\n",
    "explanation = explainer.explain(inputs=strange_prediction, goal=goal, model=model, feature_domains=domains)"
   ]
  },
  {
   "cell_type": "code",
   "execution_count": null,
   "id": "4dd64eb1-edfe-4fae-9e46-90528844187d",
   "metadata": {
    "tags": []
   },
   "outputs": [],
   "source": [
    "model(explanation.proposed_features_dataframe.to_numpy())"
   ]
  },
  {
   "cell_type": "code",
   "execution_count": null,
   "id": "ba70f117-41f2-4c15-aa00-6913360fe9dc",
   "metadata": {
    "tags": []
   },
   "outputs": [],
   "source": [
    "explanation.as_dataframe()"
   ]
  },
  {
   "cell_type": "code",
   "execution_count": null,
   "id": "de097e7c-720f-4d02-9671-c0a0023c7c77",
   "metadata": {
    "tags": []
   },
   "outputs": [],
   "source": [
    "df = explanation.as_dataframe()\n",
    "df[df.difference != 0.0]"
   ]
  },
  {
   "cell_type": "code",
   "execution_count": null,
   "id": "ac1c0429-4ecd-484c-a2aa-85bf2a5be9b1",
   "metadata": {
    "tags": []
   },
   "outputs": [],
   "source": [
    "if not df[df.difference != 0.0].empty:\n",
    "    explanation.plot()\n",
    "else:\n",
    "    print(f\"We did not manage to make '{OUTPUT_FEATURE}' larger than '{LABEL_THRESHOLD}'\")"
   ]
  }
 ],
 "metadata": {
  "kernelspec": {
   "display_name": "Python 3.11",
   "language": "python",
   "name": "python3"
  },
  "language_info": {
   "codemirror_mode": {
    "name": "ipython",
    "version": 3
   },
   "file_extension": ".py",
   "mimetype": "text/x-python",
   "name": "python",
   "nbconvert_exporter": "python",
   "pygments_lexer": "ipython3",
   "version": "3.11.7"
  }
 },
 "nbformat": 4,
 "nbformat_minor": 5
}
