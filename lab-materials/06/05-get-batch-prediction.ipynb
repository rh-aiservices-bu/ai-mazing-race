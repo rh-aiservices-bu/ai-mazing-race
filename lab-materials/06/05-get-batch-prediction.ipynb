{
 "cells": [
  {
   "cell_type": "markdown",
   "id": "b4386168",
   "metadata": {},
   "source": [
    "# Perform an offline prediction\n",
    "\n",
    "* This does not actually leverage the model we've just deployed. Instead, it relies on pulling the model down from HuggingFace and running it fully inside the workbench. \n",
    "* While this is not what we are looking to do, it's a good first smoke test. (no pun intended)."
   ]
  },
  {
   "cell_type": "code",
   "execution_count": null,
   "id": "6d0e274b-b258-47d5-b384-e22694f82901",
   "metadata": {
    "tags": []
   },
   "outputs": [],
   "source": [
    "!pip -q install transformers==4.46.3"
   ]
  },
  {
   "cell_type": "code",
   "execution_count": null,
   "id": "e9e3d027-a879-40e4-a14e-8ced5d5805d0",
   "metadata": {
    "tags": []
   },
   "outputs": [],
   "source": [
    "from IPython.display import Image, display\n",
    "import time"
   ]
  },
  {
   "cell_type": "code",
   "execution_count": null,
   "id": "4819091d-b178-491d-8727-41cf00004976",
   "metadata": {
    "tags": []
   },
   "outputs": [],
   "source": [
    "from transformers import pipeline\n",
    "pipe = pipeline(\"image-classification\", model=\"rh-ai-bu/wildfire01\")"
   ]
  },
  {
   "cell_type": "code",
   "execution_count": null,
   "id": "d38c9547-dd92-4125-918d-9676fbb6c8fc",
   "metadata": {
    "tags": []
   },
   "outputs": [],
   "source": [
    "# image = \"pic2.jpg\"\n",
    "# Import the function from the script\n",
    "from get_random_image import get_random_image\n",
    "\n",
    "# Call the function\n",
    "image = get_random_image()\n",
    "\n",
    "# Print the selected image path\n",
    "print(image)\n",
    "\n",
    "## Picking a specific image for reproducibility. Uncomment the line below to go back to random.\n",
    "image = \"06-wildfire-sample/wildfire_types_image_detection_sample/val/fire/Smoke_from_fires/50323627386_af76996942_o.jpg\""
   ]
  },
  {
   "cell_type": "code",
   "execution_count": null,
   "id": "691f641f-b054-413e-aad5-ae10606e95c8",
   "metadata": {
    "tags": []
   },
   "outputs": [],
   "source": [
    "display(Image(filename=image, width=1000))"
   ]
  },
  {
   "cell_type": "code",
   "execution_count": null,
   "id": "647d081a-e043-4fae-842a-cdaf789f059e",
   "metadata": {
    "tags": []
   },
   "outputs": [],
   "source": [
    "\n",
    "start_time = time.time()  # Record the start time\n",
    "result = pipe(image)  # Run the function\n",
    "end_time = time.time()  # Record the end time\n",
    "\n",
    "# Calculate and print the response time\n",
    "response_time = end_time - start_time\n",
    "print(f\"Response time: {response_time:.6f} seconds\")\n",
    "result"
   ]
  }
 ],
 "metadata": {
  "kernelspec": {
   "display_name": "Python 3.9",
   "language": "python",
   "name": "python3"
  },
  "language_info": {
   "codemirror_mode": {
    "name": "ipython",
    "version": 3
   },
   "file_extension": ".py",
   "mimetype": "text/x-python",
   "name": "python",
   "nbconvert_exporter": "python",
   "pygments_lexer": "ipython3",
   "version": "3.9.18"
  }
 },
 "nbformat": 4,
 "nbformat_minor": 5
}
