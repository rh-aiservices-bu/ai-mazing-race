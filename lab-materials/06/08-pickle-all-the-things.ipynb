{
 "cells": [
  {
   "cell_type": "markdown",
   "id": "0d9baf30-2666-407e-ab04-3d43a5faff38",
   "metadata": {
    "tags": []
   },
   "source": [
    "## pickle all the things\n",
    "\n",
    "we scan all the images, and run them through the pipeline to create tensors. \n",
    "We than save that as a .pkl file for later usage\n",
    "\n"
   ]
  },
  {
   "cell_type": "code",
   "execution_count": null,
   "id": "08808376-189f-4f6c-b7d7-94d90f5cd0c7",
   "metadata": {
    "tags": []
   },
   "outputs": [],
   "source": [
    "!pip install -q optimum[onnxruntime]==1.23.3 transformers==4.46.3 torch==2.2.2+cu121\n",
    "import time\n",
    "import requests"
   ]
  },
  {
   "cell_type": "code",
   "execution_count": null,
   "id": "61de1eae-fb4a-4b3a-b0be-c2b60305e243",
   "metadata": {
    "tags": []
   },
   "outputs": [],
   "source": [
    "from optimum.onnxruntime import ORTModelForImageClassification\n",
    "from transformers import AutoFeatureExtractor\n",
    "\n",
    "# Load and export the model to ONNX\n",
    "model = ORTModelForImageClassification.from_pretrained(\"rh-ai-bu/wildfire01\", export=True)\n",
    "\n",
    "# Load the feature extractor\n",
    "feature_extractor = AutoFeatureExtractor.from_pretrained(\"rh-ai-bu/wildfire01\")\n",
    "\n",
    "# Create an ONNX-based pipeline\n",
    "from optimum.pipelines import pipeline\n",
    "onnx_pipeline = pipeline(\"image-classification\", model=model, feature_extractor=feature_extractor, accelerator=\"ort\")"
   ]
  },
  {
   "cell_type": "code",
   "execution_count": null,
   "id": "0fcfd7ae-089e-4a46-a5ab-31571335160a",
   "metadata": {
    "tags": []
   },
   "outputs": [],
   "source": [
    "onnx_pipeline.save_pretrained(\"onnx_pipeline\")"
   ]
  },
  {
   "cell_type": "code",
   "execution_count": null,
   "id": "ddcfdffa-8e5d-4de7-aba9-8d6784e2c83c",
   "metadata": {
    "tags": []
   },
   "outputs": [],
   "source": [
    "\n",
    "# with open('var.pkl', 'rb') as file:  \n",
    "#     image_preprocessed = pickle.load(file)\n",
    "#     print(image_preprocessed)  # This will print: [1, 2, 3, 'Hello', [4, 5]]\n",
    "\n",
    "# # Open the file for writing\n",
    "# with open('var.pkl', 'wb') as file:  # 'wb' stands for write in binary mode\n",
    "#     pickle.dump(image_preprocessed, file)\n"
   ]
  },
  {
   "cell_type": "code",
   "execution_count": null,
   "id": "f0e5b906-9e13-496f-ae7a-1e8b49c68950",
   "metadata": {
    "tags": []
   },
   "outputs": [],
   "source": [
    "import os\n",
    "import glob\n",
    "import pickle\n",
    "import time\n",
    "import requests\n",
    "\n",
    "def convert_and_pickle(path='/opt/app-root/src/ai-mazing-race/lab-materials/06/06-wildfire-sample'):\n",
    "    # List of image file extensions\n",
    "    image_extensions = ['*.jpg', '*.jpeg', '*.png', '*.gif']\n",
    "\n",
    "    # Create a list to hold full paths of image files\n",
    "    image_files = []\n",
    "    processed_files = 0  # Initialize a counter for processed files\n",
    "\n",
    "\n",
    "    # Iterate over each file extension\n",
    "    for ext in image_extensions:\n",
    "        # Use glob to find all files with the current extension in the given path and its subdirectories\n",
    "        for file in glob.iglob(os.path.join(path, '**', ext), recursive=True):\n",
    "            # Append the full path to the list\n",
    "            image_files.append(file)\n",
    "            if processed_files >= 50:  # Check if we've processed 50 files\n",
    "                break  # If so, exit the loop\n",
    "            processed_files += 1  # Increment the counter\n",
    "\n",
    "    # Print each image file's full path\n",
    "    for file in image_files:\n",
    "        # print(file)\n",
    "        mytensors = onnx_pipeline.preprocess(file)\n",
    "        \n",
    "        base_name = os.path.basename(file)\n",
    "        newfile = os.path.join(os.path.dirname(file), os.path.splitext(base_name)[0] + \".pkl\")\n",
    "        # print(newfile)\n",
    "        # Open the file for writing\n",
    "        with open(newfile, 'wb') as file:\n",
    "            pickle.dump(mytensors, file)        \n",
    "\n",
    "# Call the function\n",
    "convert_and_pickle()\n"
   ]
  }
 ],
 "metadata": {
  "kernelspec": {
   "display_name": "Python 3.9",
   "language": "python",
   "name": "python3"
  },
  "language_info": {
   "codemirror_mode": {
    "name": "ipython",
    "version": 3
   },
   "file_extension": ".py",
   "mimetype": "text/x-python",
   "name": "python",
   "nbconvert_exporter": "python",
   "pygments_lexer": "ipython3",
   "version": "3.9.18"
  }
 },
 "nbformat": 4,
 "nbformat_minor": 5
}
