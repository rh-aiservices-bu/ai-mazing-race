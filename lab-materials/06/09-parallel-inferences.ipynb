{
 "cells": [
  {
   "cell_type": "code",
   "execution_count": null,
   "id": "ecfca1b1-f6b8-4907-acec-c74f6a300807",
   "metadata": {
    "tags": []
   },
   "outputs": [],
   "source": [
    "from get_inference_service_url import get_inference_service_url\n",
    "infer_url = get_inference_service_url()"
   ]
  },
  {
   "cell_type": "code",
   "execution_count": null,
   "id": "7065bb6f-82a6-445d-9f72-01a1ae910614",
   "metadata": {
    "tags": []
   },
   "outputs": [],
   "source": [
    "# how many requests to send\n",
    "MAX_REQUESTS=50"
   ]
  },
  {
   "cell_type": "code",
   "execution_count": null,
   "id": "a81e81c2-7763-4761-9878-65d8ace1d842",
   "metadata": {
    "tags": []
   },
   "outputs": [],
   "source": [
    "# Function to send a single REST request\n",
    "def rest_request(data):\n",
    "    json_data = {\n",
    "        \"inputs\": [\n",
    "            {\n",
    "                \"name\": \"pixel_values\",\n",
    "                \"shape\": data.shape,\n",
    "                \"datatype\": \"FP32\",\n",
    "                \"data\": data.tolist()\n",
    "            }\n",
    "        ]\n",
    "    }\n",
    "\n",
    "    start_time = time.time()\n",
    "    response = requests.post(infer_url, json=json_data, verify=True)\n",
    "    end_time = time.time()\n",
    "\n",
    "    response_time = end_time - start_time\n",
    "    print(f\"Response time: {response_time:.6f} seconds\")\n",
    "\n",
    "    return response"
   ]
  },
  {
   "cell_type": "code",
   "execution_count": null,
   "id": "a05ede7a-37f1-4465-a2a3-71a2c76598c9",
   "metadata": {
    "tags": []
   },
   "outputs": [],
   "source": [
    "# Function to handle a single prediction request\n",
    "def process_request():\n",
    "    response = rest_request(pixel_values)\n",
    "    if response.status_code == 200:\n",
    "        prediction_data = response.json()\n",
    "    else:\n",
    "        print(f\"Request failed with status code: {response.status_code}\")\n",
    "        return None\n",
    "    "
   ]
  },
  {
   "cell_type": "code",
   "execution_count": null,
   "id": "be2f807e-8697-46fa-8941-5034259b8cb0",
   "metadata": {
    "tags": []
   },
   "outputs": [],
   "source": []
  },
  {
   "cell_type": "code",
   "execution_count": null,
   "id": "5c7e63eb-75e5-4f9b-af35-51ca6abf81b5",
   "metadata": {
    "tags": []
   },
   "outputs": [],
   "source": [
    "import os\n",
    "import glob\n",
    "import pickle\n",
    "import time\n",
    "import requests\n",
    "from concurrent.futures import ThreadPoolExecutor\n",
    "\n",
    "def find_pkl_files(directory):\n",
    "    \"\"\"Find all .pkl files in the specified directory.\"\"\"\n",
    "    pkl_files = []\n",
    "    for root, dirs, files in os.walk(directory):\n",
    "        pkl_files.extend(glob.glob(os.path.join(root, '*.pkl')))\n",
    "    return pkl_files\n",
    "\n",
    "\n",
    "def process_file(file):\n",
    "    \"\"\"Process a single .pkl file.\"\"\"\n",
    "    try:\n",
    "        with open(file, 'rb') as f:\n",
    "            image_preprocessed = pickle.load(f)\n",
    "            pixel_values = image_preprocessed[\"pixel_values\"]\n",
    "            rest_request(pixel_values)\n",
    "            print(f\"Processed: {os.path.basename(file)}\")\n",
    "    except Exception as e:\n",
    "        print(f\"Error processing {file}: {e}\")\n",
    "\n",
    "# Main script\n",
    "directory = \"/opt/app-root/src/ai-mazing-race/lab-materials/06/06-wildfire-sample\"\n",
    "pkl_files = find_pkl_files(directory)\n",
    "\n",
    "# Limit the processing to the first 50 .pkl files\n",
    "limited_pkl_files = pkl_files[:MAX_REQUESTS]\n",
    "\n",
    "start_time = time.time()\n",
    "\n",
    "# Process files in parallel\n",
    "with ThreadPoolExecutor(max_workers=8) as executor:\n",
    "    executor.map(process_file, limited_pkl_files)\n",
    "\n",
    "end_time = time.time()\n",
    "\n",
    "# Print summary\n",
    "elapsed_time = end_time - start_time\n",
    "print(f\"Total files processed: {len(limited_pkl_files)}\")\n",
    "print(f\"Time taken: {elapsed_time:.2f} seconds\")\n"
   ]
  }
 ],
 "metadata": {
  "kernelspec": {
   "display_name": "Python 3.9",
   "language": "python",
   "name": "python3"
  },
  "language_info": {
   "codemirror_mode": {
    "name": "ipython",
    "version": 3
   },
   "file_extension": ".py",
   "mimetype": "text/x-python",
   "name": "python",
   "nbconvert_exporter": "python",
   "pygments_lexer": "ipython3",
   "version": "3.9.18"
  }
 },
 "nbformat": 4,
 "nbformat_minor": 5
}
