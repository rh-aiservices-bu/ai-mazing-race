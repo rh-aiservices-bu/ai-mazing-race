{
 "cells": [
  {
   "cell_type": "markdown",
   "id": "0d9baf30-2666-407e-ab04-3d43a5faff38",
   "metadata": {
    "tags": []
   },
   "source": [
    "## Pickle all the things\n",
    "\n",
    "we scan all the images, and run them through the pipeline to create tensors. \n",
    "We than save that as a .pkl file for later usage\n",
    "\n"
   ]
  },
  {
   "cell_type": "code",
   "execution_count": null,
   "id": "08808376-189f-4f6c-b7d7-94d90f5cd0c7",
   "metadata": {
    "tags": []
   },
   "outputs": [],
   "source": [
    "!pip install -q optimum[onnxruntime]==1.23.3 transformers==4.46.3 torch==2.2.2+cu121\n",
    "import time\n",
    "import requests"
   ]
  },
  {
   "cell_type": "code",
   "execution_count": null,
   "id": "61de1eae-fb4a-4b3a-b0be-c2b60305e243",
   "metadata": {
    "tags": []
   },
   "outputs": [],
   "source": [
    "from optimum.onnxruntime import ORTModelForImageClassification\n",
    "from transformers import AutoFeatureExtractor\n",
    "\n",
    "# Load and export the model to ONNX\n",
    "model = ORTModelForImageClassification.from_pretrained(\"rh-ai-bu/wildfire01\", export=True)\n",
    "\n",
    "# Load the feature extractor\n",
    "feature_extractor = AutoFeatureExtractor.from_pretrained(\"rh-ai-bu/wildfire01\")\n",
    "\n",
    "# Create an ONNX-based pipeline\n",
    "from optimum.pipelines import pipeline\n",
    "onnx_pipeline = pipeline(\"image-classification\", model=model, feature_extractor=feature_extractor, accelerator=\"ort\")"
   ]
  },
  {
   "cell_type": "code",
   "execution_count": null,
   "id": "0fcfd7ae-089e-4a46-a5ab-31571335160a",
   "metadata": {
    "tags": []
   },
   "outputs": [],
   "source": [
    "onnx_pipeline.save_pretrained(\"onnx_pipeline\")"
   ]
  },
  {
   "cell_type": "code",
   "execution_count": null,
   "id": "f0e5b906-9e13-496f-ae7a-1e8b49c68950",
   "metadata": {
    "tags": []
   },
   "outputs": [],
   "source": [
    "import os\n",
    "import glob\n",
    "import pickle\n",
    "import time\n",
    "import requests\n",
    "\n",
    "def find_image_files(path):\n",
    "    # List of image file extensions\n",
    "    image_extensions = ['*.jpg', '*.jpeg', '*.png', '*.gif']\n",
    "\n",
    "    # Create a list to hold full paths of image files\n",
    "    image_files = []\n",
    "    files_to_process = 1  # Initialize a counter for processed files\n",
    "\n",
    "    # Iterate over each file extension\n",
    "    for ext in image_extensions:\n",
    "        # Use glob to find all files with the current extension in the given path and its subdirectories\n",
    "        for file in glob.iglob(os.path.join(path, '**', ext), recursive=True):\n",
    "            # Append the full path to the list\n",
    "            image_files.append(file)\n",
    "            if files_to_process >= 50:  # Check if we've processed 50 files\n",
    "                return image_files  # If so, exit the loop\n",
    "            files_to_process += 1  # Increment the counter\n",
    "\n",
    "def convert_and_pickle(path='06-wildfire-sample'):\n",
    "    image_files = find_image_files(path)\n",
    "    mytensors = {}\n",
    "\n",
    "    # Print each image file's full path\n",
    "    for file in image_files:\n",
    "        # print(file)\n",
    "        mytensors[file] = onnx_pipeline.preprocess(file)\n",
    "        print(f\"Processed {file}\")\n",
    "\n",
    "    # Save the tensors as a pickle\n",
    "    os.makedirs(\"pickled\", exist_ok=True)\n",
    "    with open(\"pickled/pickled_tensors.pkl\", 'wb') as f:\n",
    "        pickle.dump(mytensors, f)\n",
    "\n",
    "# Call the function\n",
    "convert_and_pickle()"
   ]
  }
 ],
 "metadata": {
  "kernelspec": {
   "display_name": "Python 3.9",
   "language": "python",
   "name": "python3"
  },
  "language_info": {
   "codemirror_mode": {
    "name": "ipython",
    "version": 3
   },
   "file_extension": ".py",
   "mimetype": "text/x-python",
   "name": "python",
   "nbconvert_exporter": "python",
   "pygments_lexer": "ipython3",
   "version": "3.9.18"
  }
 },
 "nbformat": 4,
 "nbformat_minor": 5
}
