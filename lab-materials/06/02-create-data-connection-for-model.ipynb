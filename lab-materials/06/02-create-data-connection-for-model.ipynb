{
 "cells": [
  {
   "cell_type": "markdown",
   "id": "7794c455-f448-41d9-aede-bd86f4c4d5ae",
   "metadata": {
    "tags": []
   },
   "source": [
    "# Creating a Connection\n",
    "\n",
    "* The code in the cell below will create a Connection in your RHOAI environment\n",
    "* This connection will contain the informations on where the wildfire detection model has been stored. \n",
    "* Execute the cell\n"
   ]
  },
  {
   "cell_type": "code",
   "execution_count": null,
   "id": "7a647e87-1bb5-4aaa-be4c-5c2bf96db976",
   "metadata": {
    "tags": []
   },
   "outputs": [],
   "source": [
    "%%bash\n",
    "\n",
    "cat << EOF | oc apply -f-\n",
    "apiVersion: v1\n",
    "kind: Secret\n",
    "metadata:\n",
    "  name: aws-connection-minio-wildfire\n",
    "  labels:\n",
    "    opendatahub.io/dashboard: \"true\"\n",
    "    opendatahub.io/managed: \"true\"\n",
    "  annotations:\n",
    "    opendatahub.io/connection-type: s3\n",
    "    openshift.io/display-name: Wildfire Model in Minio (stored in /wildfire_onnx/)\n",
    "type: Opaque\n",
    "stringData:\n",
    "  AWS_ACCESS_KEY_ID: minio\n",
    "  AWS_SECRET_ACCESS_KEY: minio-ai-mazing\n",
    "  AWS_DEFAULT_REGION: us\n",
    "  AWS_S3_ENDPOINT: http://minio.shared-minio.svc:9000\n",
    "  AWS_S3_BUCKET: models\n",
    "EOF"
   ]
  },
  {
   "cell_type": "markdown",
   "id": "99328bb8-2552-4f34-b5c5-e07121b70d47",
   "metadata": {},
   "source": [
    "* To confirm that the data connection exist, you can run the next cell "
   ]
  },
  {
   "cell_type": "code",
   "execution_count": null,
   "id": "069a12d8",
   "metadata": {},
   "outputs": [],
   "source": [
    "! oc get secret aws-connection-minio-wildfire"
   ]
  },
  {
   "cell_type": "markdown",
   "id": "a66c9dc8",
   "metadata": {},
   "source": [
    "* You can also go check the Connections tab in the RHOAI project to confirm the connection was properly created"
   ]
  }
 ],
 "metadata": {
  "kernelspec": {
   "display_name": "Python 3.9",
   "language": "python",
   "name": "python3"
  },
  "language_info": {
   "codemirror_mode": {
    "name": "ipython",
    "version": 3
   },
   "file_extension": ".py",
   "mimetype": "text/x-python",
   "name": "python",
   "nbconvert_exporter": "python",
   "pygments_lexer": "ipython3",
   "version": "3.9.18"
  }
 },
 "nbformat": 4,
 "nbformat_minor": 5
}
