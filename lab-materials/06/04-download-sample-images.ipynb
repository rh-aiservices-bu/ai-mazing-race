{
 "cells": [
  {
   "cell_type": "markdown",
   "metadata": {},
   "source": [
    "# Downloading sample images"
   ]
  },
  {
   "cell_type": "code",
   "execution_count": null,
   "metadata": {
    "tags": []
   },
   "outputs": [],
   "source": [
    "# Import packages\n",
    "import os\n",
    "import requests\n",
    "import zipfile\n",
    "from tqdm import tqdm\n",
    "\n",
    "## define my function\n",
    "def download_with_progress_bar(url, output_file):\n",
    "    # Stream the download with a progress bar\n",
    "    response = requests.get(url, stream=True)\n",
    "    response.raise_for_status()  # Raise an exception for HTTP errors\n",
    "\n",
    "    total_size = int(response.headers.get('content-length', 0))  # Total size in bytes\n",
    "    block_size = 1024  # Block size for reading in bytes\n",
    "    progress_bar = tqdm(total=total_size, unit='B', unit_scale=True, desc=\"Downloading\")\n",
    "\n",
    "    with open(output_file, 'wb') as file:\n",
    "        for data in response.iter_content(block_size):\n",
    "            progress_bar.update(len(data))\n",
    "            file.write(data)\n",
    "    progress_bar.close()\n",
    "\n",
    "def download_and_extract_zip(url, extract_to):\n",
    "    # Create the extract_to directory if it doesn't exist\n",
    "    os.makedirs(extract_to, exist_ok=True)\n",
    "\n",
    "    # Download the file\n",
    "    local_zip_file = os.path.join(extract_to, \"temp.zip\")\n",
    "    print(f\"Downloading from {url}...\")\n",
    "    print(f\"That should take about 30 seconds or so...\")\n",
    "    download_with_progress_bar(url, local_zip_file)\n",
    "    print(f\"Downloaded zip file to {local_zip_file}.\")\n",
    "\n",
    "    # Extract the zip file\n",
    "    print(\"Extracting zip file...\")\n",
    "    with zipfile.ZipFile(local_zip_file, 'r') as zip_ref:\n",
    "        zip_ref.extractall(extract_to)\n",
    "    print(f\"Extracted files to {extract_to}.\")\n",
    "\n",
    "    # Remove the temporary zip file\n",
    "    os.remove(local_zip_file)\n",
    "    print(\"Temporary zip file removed.\")"
   ]
  },
  {
   "cell_type": "code",
   "execution_count": null,
   "metadata": {
    "tags": []
   },
   "outputs": [],
   "source": [
    "# use function\n",
    "zip_url = \"https://rhods-public.s3.us-east-1.amazonaws.com/wildfire/wildfire_types_image_detection_sample.zip\"\n",
    "destination_folder = \"./06-wildfire-sample\"\n",
    "download_and_extract_zip(zip_url, destination_folder)\n"
   ]
  }
 ],
 "metadata": {
  "kernelspec": {
   "display_name": "Python 3.9",
   "language": "python",
   "name": "python3"
  },
  "language_info": {
   "codemirror_mode": {
    "name": "ipython",
    "version": 3
   },
   "file_extension": ".py",
   "mimetype": "text/x-python",
   "name": "python",
   "nbconvert_exporter": "python",
   "pygments_lexer": "ipython3",
   "version": "3.9.18"
  }
 },
 "nbformat": 4,
 "nbformat_minor": 4
}
