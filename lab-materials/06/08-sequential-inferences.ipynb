{
 "cells": [
  {
   "cell_type": "markdown",
   "id": "1db120fc",
   "metadata": {},
   "source": [
    "# Do inference sequentially"
   ]
  },
  {
   "cell_type": "code",
   "execution_count": null,
   "id": "cfce4dcc",
   "metadata": {},
   "outputs": [],
   "source": [
    "import os\n",
    "import glob\n",
    "import pickle\n",
    "import time\n",
    "import requests"
   ]
  },
  {
   "cell_type": "code",
   "execution_count": null,
   "id": "ecfca1b1-f6b8-4907-acec-c74f6a300807",
   "metadata": {
    "tags": []
   },
   "outputs": [],
   "source": [
    "from get_inference_service_url import get_inference_service_url\n",
    "infer_url = get_inference_service_url()"
   ]
  },
  {
   "cell_type": "code",
   "execution_count": null,
   "id": "51f95c58-1ebc-45ab-a4aa-5e80b7539400",
   "metadata": {
    "tags": []
   },
   "outputs": [],
   "source": [
    "# how many requests to send\n",
    "MAX_REQUESTS=50"
   ]
  },
  {
   "cell_type": "code",
   "execution_count": null,
   "id": "914b48c7-4478-49d7-a5c3-cb16dd895114",
   "metadata": {
    "tags": []
   },
   "outputs": [],
   "source": [
    "# Function to send a single REST request\n",
    "def rest_request(data):\n",
    "    json_data = {\n",
    "        \"inputs\": [\n",
    "            {\n",
    "                \"name\": \"pixel_values\",\n",
    "                \"shape\": data.shape,\n",
    "                \"datatype\": \"FP32\",\n",
    "                \"data\": data.tolist()\n",
    "            }\n",
    "        ]\n",
    "    }\n",
    "\n",
    "    start_time = time.time()\n",
    "    response = requests.post(infer_url, json=json_data, verify=True)\n",
    "    end_time = time.time()\n",
    "\n",
    "    if response.status_code != 200:\n",
    "        print(f\"Request failed with status code: {response.status_code}\")\n",
    "\n",
    "\n",
    "    response_time = end_time - start_time\n",
    "    print(f\"Response time: {response_time:.6f} seconds\")\n",
    "\n",
    "    return response"
   ]
  },
  {
   "cell_type": "code",
   "execution_count": null,
   "id": "5c7e63eb-75e5-4f9b-af35-51ca6abf81b5",
   "metadata": {
    "tags": []
   },
   "outputs": [],
   "source": [
    "pickled_file = \"pickled/pickled_tensors.pkl\"\n",
    "\n",
    "with open(pickled_file, 'rb') as file:\n",
    "    mytensors = pickle.load(file)\n",
    "\n",
    "# Limit the output to the first 50 .pkl files\n",
    "limited_tensors = list(mytensors.values())[:MAX_REQUESTS]\n",
    "\n",
    "start_time = time.time()  # record start time\n",
    "request_count = 0  # initialize request counter\n",
    "\n",
    "for tensor in limited_tensors:\n",
    "    pixel_values = tensor[\"pixel_values\"]\n",
    "    rest_request(pixel_values)\n",
    "    request_count += 1  # increment request counter\n",
    "\n",
    "end_time = time.time()  # record end time\n",
    "\n",
    "elapsed_time = end_time - start_time  # calculate elapsed time\n",
    "average_time = elapsed_time / request_count  # compute average time per request\n",
    "\n",
    "print(f\"Total requests processed: {request_count}\")\n",
    "print(f\"Time taken: {elapsed_time} seconds\")\n",
    "print(f\"Average time per request: {average_time} seconds\")"
   ]
  }
 ],
 "metadata": {
  "kernelspec": {
   "display_name": "Python 3.9",
   "language": "python",
   "name": "python3"
  },
  "language_info": {
   "codemirror_mode": {
    "name": "ipython",
    "version": 3
   },
   "file_extension": ".py",
   "mimetype": "text/x-python",
   "name": "python",
   "nbconvert_exporter": "python",
   "pygments_lexer": "ipython3",
   "version": "3.9.18"
  }
 },
 "nbformat": 4,
 "nbformat_minor": 5
}
