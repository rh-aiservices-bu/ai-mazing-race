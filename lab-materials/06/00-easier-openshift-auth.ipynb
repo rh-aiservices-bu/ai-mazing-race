{
 "cells": [
  {
   "cell_type": "markdown",
   "metadata": {},
   "source": [
    "# OpenShift Login"
   ]
  },
  {
   "cell_type": "markdown",
   "metadata": {
    "tags": []
   },
   "source": [
    "* We will need to run some oc commands\n",
    "* You will have to to authenticate yourself against the OpenShift cluster.\n",
    "* Run the cell below to get the full instructions."
   ]
  },
  {
   "cell_type": "code",
   "execution_count": null,
   "metadata": {
    "tags": []
   },
   "outputs": [],
   "source": [
    "import re\n",
    "import os\n",
    "\n",
    "NOTEBOOK_ARGS = os.environ.get('NOTEBOOK_ARGS', '')\n",
    "match = re.search(r'\"hub_host\":\"https://.*?(apps\\.[^\"]+)\"', NOTEBOOK_ARGS)\n",
    "hub_host_value = match.group(1)\n",
    "\n",
    "login_url = 'https://oauth-openshift.' + hub_host_value + \"/oauth/token/request\"\n",
    "\n",
    "print('1. Open the following URL to get your authentication token.')\n",
    "print('2. Authenticate, then click on \"Display token\"')\n",
    "print('3. Copy the content of the line under \"Log in with this token\" (starts with <oc login ...>)')\n",
    "print('4. Come back here and paste that <oc login ...> line in the next cell.')\n",
    "print('Login URL: '+login_url)"
   ]
  },
  {
   "cell_type": "code",
   "execution_count": null,
   "metadata": {
    "tags": []
   },
   "outputs": [],
   "source": [
    "%%bash\n",
    "\n",
    "# replace the oc command below with yours and then run the cell:\n",
    "oc login --token=sha256~_some_really_really_long_string_here_ --server=https://api.cluster-_some_id_._some_id_.sandboxNNN.opentlc.com:6443\n"
   ]
  },
  {
   "cell_type": "markdown",
   "metadata": {
    "tags": []
   },
   "source": [
    "* if this has worked, this next cell will return your user id. "
   ]
  },
  {
   "cell_type": "code",
   "execution_count": null,
   "metadata": {
    "tags": []
   },
   "outputs": [],
   "source": [
    "! oc whoami"
   ]
  },
  {
   "cell_type": "markdown",
   "metadata": {
    "tags": []
   },
   "source": [
    "* if in the above you see: \n",
    "\n",
    "* `system:serviceaccount:userX:my-workbench`  then it's failed\n",
    "* `userX` then it's worked"
   ]
  }
 ],
 "metadata": {
  "kernelspec": {
   "display_name": "Python 3",
   "language": "python",
   "name": "python3"
  },
  "language_info": {
   "codemirror_mode": {
    "name": "ipython",
    "version": 3
   },
   "file_extension": ".py",
   "mimetype": "text/x-python",
   "name": "python",
   "nbconvert_exporter": "python",
   "pygments_lexer": "ipython3",
   "version": "3.13.0"
  }
 },
 "nbformat": 4,
 "nbformat_minor": 4
}
